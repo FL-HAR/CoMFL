{
 "cells": [
  {
   "cell_type": "code",
   "execution_count": null,
   "id": "3f928cbf",
   "metadata": {},
   "outputs": [],
   "source": [
    "import random\n",
    "import numpy as np\n",
    "import matplotlib.pyplot as plt\n",
    "import pandas as pd\n",
    "import os\n",
    "import tensorflow as tf\n",
    "from sklearn.model_selection import train_test_split\n",
    "import matplotlib.pyplot as plt\n",
    "import os\n",
    "import glob\n",
    "import pandas as pd\n",
    "import numpy as np\n",
    "from scipy import interpolate\n",
    "from sklearn.preprocessing import StandardScaler\n",
    "from sklearn.metrics import confusion_matrix\n",
    "from google.colab import drive\n",
    "import pickle\n",
    "from scipy.io import wavfile\n",
    "from scipy.signal import decimate\n",
    "from tensorflow.keras.layers import Input, Conv2D, MaxPooling2D, Flatten, Dense, concatenate, Dropout\n",
    "from tensorflow.keras.models import Model\n",
    "from tensorflow.keras.optimizers import Adam"
   ]
  },
  {
   "cell_type": "markdown",
   "id": "dec5041d",
   "metadata": {},
   "source": [
    "## Centralized Uni-Modal Training"
   ]
  },
  {
   "cell_type": "code",
   "execution_count": null,
   "id": "fe188d87",
   "metadata": {},
   "outputs": [],
   "source": [
    "n_epochs = 100\n",
    "\n",
    "model_p = Uni_Modal(0)\n",
    "history_phone = model_p.fit(central_train_x_p, central_train_y, epochs=n_epochs, verbose = 1,  batch_size=32,validation_data = (central_test_x_p, central_test_y) )\n",
    "\n",
    "model_w = Uni_Modal(1)\n",
    "history_watch = model_w.fit(central_train_x_w.reshape((-1,25,24,1)), central_train_y, epochs=n_epochs, verbose = 1,  batch_size=32,validation_data = (central_test_x_w.reshape((-1,25,24,1)), central_test_y))\n",
    "\n",
    "model_s = Uni_Modal(2)\n",
    "history_speaker = model_s.fit(central_train_x_s, central_train_y, epochs=n_epochs, verbose = 1,  batch_size=32,validation_data = (central_test_x_s, central_test_y) )"
   ]
  },
  {
   "cell_type": "code",
   "execution_count": 2,
   "id": "da8d9356",
   "metadata": {},
   "outputs": [
    {
     "ename": "ModuleNotFoundError",
     "evalue": "No module named 'tensorflow'",
     "output_type": "error",
     "traceback": [
      "\u001b[1;31m---------------------------------------------------------------------------\u001b[0m",
      "\u001b[1;31mModuleNotFoundError\u001b[0m                       Traceback (most recent call last)",
      "Cell \u001b[1;32mIn[2], line 1\u001b[0m\n\u001b[1;32m----> 1\u001b[0m \u001b[38;5;28;01mfrom\u001b[39;00m \u001b[38;5;21;01mNetworks\u001b[39;00m \u001b[38;5;28;01mimport\u001b[39;00m Multi_Modal\n",
      "File \u001b[1;32m~\\Desktop\\Python codes for ICASSP\\Networks.py:8\u001b[0m\n\u001b[0;32m      1\u001b[0m \u001b[38;5;66;03m# -*- coding: utf-8 -*-\u001b[39;00m\n\u001b[0;32m      2\u001b[0m \u001b[38;5;124;03m\"\"\"\u001b[39;00m\n\u001b[0;32m      3\u001b[0m \u001b[38;5;124;03mCreated on Thu Aug 17 09:10:44 2023\u001b[39;00m\n\u001b[0;32m      4\u001b[0m \n\u001b[0;32m      5\u001b[0m \u001b[38;5;124;03m@author: Zanko System\u001b[39;00m\n\u001b[0;32m      6\u001b[0m \u001b[38;5;124;03m\"\"\"\u001b[39;00m\n\u001b[1;32m----> 8\u001b[0m \u001b[38;5;28;01mfrom\u001b[39;00m \u001b[38;5;21;01mtensorflow\u001b[39;00m\u001b[38;5;21;01m.\u001b[39;00m\u001b[38;5;21;01mkeras\u001b[39;00m\u001b[38;5;21;01m.\u001b[39;00m\u001b[38;5;21;01mlayers\u001b[39;00m \u001b[38;5;28;01mimport\u001b[39;00m Input, \\\n\u001b[0;32m      9\u001b[0m     Conv2D, MaxPooling2D, Flatten, Dense, concatenate, Dropout\n\u001b[0;32m     10\u001b[0m \u001b[38;5;28;01mfrom\u001b[39;00m \u001b[38;5;21;01mtensorflow\u001b[39;00m\u001b[38;5;21;01m.\u001b[39;00m\u001b[38;5;21;01mkeras\u001b[39;00m\u001b[38;5;21;01m.\u001b[39;00m\u001b[38;5;21;01mmodels\u001b[39;00m \u001b[38;5;28;01mimport\u001b[39;00m Model\n\u001b[0;32m     12\u001b[0m \u001b[38;5;66;03m###############################################\u001b[39;00m\n\u001b[0;32m     13\u001b[0m \u001b[38;5;66;03m## Multi-modal Network Function\u001b[39;00m\n",
      "\u001b[1;31mModuleNotFoundError\u001b[0m: No module named 'tensorflow'"
     ]
    }
   ],
   "source": [
    "from Networks import Multi_Modal"
   ]
  },
  {
   "cell_type": "code",
   "execution_count": 1,
   "id": "16cf766d",
   "metadata": {
    "collapsed": true
   },
   "outputs": [
    {
     "name": "stdout",
     "output_type": "stream",
     "text": [
      "Evaluating Centralized Uni-Modal Models\n"
     ]
    },
    {
     "ename": "NameError",
     "evalue": "name 'model_p' is not defined",
     "output_type": "error",
     "traceback": [
      "\u001b[1;31m---------------------------------------------------------------------------\u001b[0m",
      "\u001b[1;31mNameError\u001b[0m                                 Traceback (most recent call last)",
      "Cell \u001b[1;32mIn[1], line 3\u001b[0m\n\u001b[0;32m      1\u001b[0m \u001b[38;5;28mprint\u001b[39m(\u001b[38;5;124m\"\u001b[39m\u001b[38;5;124mEvaluating Centralized Uni-Modal Models\u001b[39m\u001b[38;5;124m\"\u001b[39m)\n\u001b[1;32m----> 3\u001b[0m results \u001b[38;5;241m=\u001b[39m model_p\u001b[38;5;241m.\u001b[39mevaluate(central_test_x_p, central_test_y, batch_size\u001b[38;5;241m=\u001b[39m\u001b[38;5;241m128\u001b[39m)\n\u001b[0;32m      4\u001b[0m \u001b[38;5;28mprint\u001b[39m(\u001b[38;5;124m\"\u001b[39m\u001b[38;5;124mPhone: test loss, test acc:\u001b[39m\u001b[38;5;124m\"\u001b[39m, results)\n\u001b[0;32m      5\u001b[0m results \u001b[38;5;241m=\u001b[39m model_p\u001b[38;5;241m.\u001b[39mevaluate(ood_test_x_p, ood_test_y, batch_size\u001b[38;5;241m=\u001b[39m\u001b[38;5;241m128\u001b[39m)\n",
      "\u001b[1;31mNameError\u001b[0m: name 'model_p' is not defined"
     ]
    }
   ],
   "source": [
    "print(\"Evaluating Centralized Uni-Modal Models\")\n",
    "\n",
    "results = model_p.evaluate(central_test_x_p, central_test_y, batch_size=128)\n",
    "print(\"Phone: test loss, test acc:\", results)\n",
    "results = model_p.evaluate(ood_test_x_p, ood_test_y, batch_size=128)\n",
    "print(\"Phone (OOD): test loss, test acc:\", results)\n",
    "print('-----------------------------------------------')\n",
    "\n",
    "results = model_w.evaluate(central_test_x_w.reshape((-1,25,24,1)), central_test_y, batch_size=128)\n",
    "print(\"Watch: test loss, test acc:\", results)\n",
    "results = model_w.evaluate(ood_test_x_w.reshape((-1,25,24,1)), ood_test_y, batch_size=128)\n",
    "print(\"Watch (OOD): test loss, test acc:\", results)\n",
    "print('-----------------------------------------------')\n",
    "\n",
    "results = model_s.evaluate(central_test_x_s, central_test_y, batch_size=128)\n",
    "print(\"Speaker: test loss, test acc:\", results)\n",
    "results = model_s.evaluate(ood_test_x_s, ood_test_y, batch_size=128)\n",
    "print(\"Audio (OOD): test loss, test acc:\", results)"
   ]
  },
  {
   "cell_type": "code",
   "execution_count": null,
   "id": "14b1d947",
   "metadata": {},
   "outputs": [],
   "source": [
    "# Plot training & validation accuracy values\n",
    "plt.figure(figsize=(12, 6))\n",
    "\n",
    "plt.subplot(1, 3, 1)\n",
    "plt.plot(history_phone.history['accuracy'])\n",
    "plt.plot(history_phone.history['val_accuracy'])\n",
    "plt.title('Phone modality');plt.ylabel('Accuracy');plt.xlabel('Epoch')\n",
    "plt.ylim((0.4,1))\n",
    "plt.grid();plt.legend(['Train', 'Validation'], loc='upper left')\n",
    "\n",
    "plt.subplot(1, 3, 2)\n",
    "plt.plot(history_watch.history['accuracy'])\n",
    "plt.plot(history_watch.history['val_accuracy'])\n",
    "plt.title('Watch modality');plt.ylabel('Accuracy');plt.xlabel('Epoch')\n",
    "plt.ylim((0.4,1))\n",
    "plt.grid();plt.legend(['Train', 'Validation'], loc='upper left')\n",
    "\n",
    "plt.subplot(1, 3, 3)\n",
    "plt.plot(history_speaker.history['accuracy'])\n",
    "plt.plot(history_speaker.history['val_accuracy'])\n",
    "plt.title('speaker modality');plt.ylabel('Accuracy');plt.xlabel('Epoch')\n",
    "plt.ylim((0.4,1))\n",
    "plt.grid();plt.legend(['Train', 'Validation'], loc='upper left')\n",
    "\n",
    "plt.show()"
   ]
  },
  {
   "cell_type": "markdown",
   "id": "c723b2fd",
   "metadata": {},
   "source": [
    "## Central Multimodal Training"
   ]
  },
  {
   "cell_type": "code",
   "execution_count": null,
   "id": "0083a170",
   "metadata": {},
   "outputs": [],
   "source": [
    "# Centralized Multi-Modal Training\n",
    "model = Multi_Modal()\n",
    "n_epochs = 100\n",
    "# Train the model\n",
    "history_mm = model.fit([central_train_x_w.reshape((-1,25,24,1)),central_train_x_p,central_train_x_s], central_train_y, epochs=n_epochs, batch_size=32,\\\n",
    "          validation_data=([central_test_x_w.reshape((-1,25,24,1)),central_test_x_p,central_test_x_s], central_test_y))"
   ]
  },
  {
   "cell_type": "code",
   "execution_count": null,
   "id": "0a5c34d8",
   "metadata": {},
   "outputs": [],
   "source": [
    "print(\"Evaluating Centralized Multi-Modal Model\")\n",
    "results = model.evaluate([central_test_x_w.reshape((-1,25,24,1)),central_test_x_p,central_test_x_s], central_test_y )\n",
    "print(\"Multi-Modal: test loss, test accuracy:\", results)\n",
    "\n",
    "results = model.evaluate([ood_test_x_w.reshape((-1,25,24,1)),ood_test_x_p,ood_test_x_s ], ood_test_y)\n",
    "print(\"Multi-Modal (OOD): test loss, test accuracy:\", results)"
   ]
  },
  {
   "cell_type": "code",
   "execution_count": null,
   "id": "de1e1794",
   "metadata": {},
   "outputs": [],
   "source": [
    "plt.plot(history_mm.history['accuracy'])\n",
    "plt.plot(history_mm.history['val_accuracy'])\n",
    "plt.title('Multi-modality');plt.ylabel('Accuracy');plt.xlabel('Epoch')\n",
    "plt.ylim((0.2,1))\n",
    "plt.grid();plt.legend(['Train', 'Validation'], loc='upper left')"
   ]
  }
 ],
 "metadata": {
  "kernelspec": {
   "display_name": "Python 3 (ipykernel)",
   "language": "python",
   "name": "python3"
  },
  "language_info": {
   "codemirror_mode": {
    "name": "ipython",
    "version": 3
   },
   "file_extension": ".py",
   "mimetype": "text/x-python",
   "name": "python",
   "nbconvert_exporter": "python",
   "pygments_lexer": "ipython3",
   "version": "3.11.4"
  }
 },
 "nbformat": 4,
 "nbformat_minor": 5
}
